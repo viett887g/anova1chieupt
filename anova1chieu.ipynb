{
  "nbformat": 4,
  "nbformat_minor": 0,
  "metadata": {
    "colab": {
      "name": "anova1chieu.ipynb",
      "provenance": [],
      "mount_file_id": "1S59CIUv6r7uHBSiI90qDKYYgevQRm_Re",
      "authorship_tag": "ABX9TyOLh0V9ciUKVipTrVT2w6Ao",
      "include_colab_link": true
    },
    "kernelspec": {
      "name": "python3",
      "display_name": "Python 3"
    },
    "language_info": {
      "name": "python"
    }
  },
  "cells": [
    {
      "cell_type": "markdown",
      "metadata": {
        "id": "view-in-github",
        "colab_type": "text"
      },
      "source": [
        "<a href=\"https://colab.research.google.com/github/viett887g/anova1chieupt/blob/main/anova1chieu.ipynb\" target=\"_parent\"><img src=\"https://colab.research.google.com/assets/colab-badge.svg\" alt=\"Open In Colab\"/></a>"
      ]
    },
    {
      "cell_type": "code",
      "execution_count": 6,
      "metadata": {
        "id": "OBDyPS8bHvGU"
      },
      "outputs": [],
      "source": [
        "import pandas as pd\n",
        "import numpy as np\n",
        "from scipy.stats import f_oneway\n",
        "from scipy import stats\n",
        "from scipy.stats import shapiro"
      ]
    },
    {
      "cell_type": "code",
      "source": [
        "from google.colab import drive\n",
        "drive.mount('/content/gdrive')"
      ],
      "metadata": {
        "colab": {
          "base_uri": "https://localhost:8080/"
        },
        "id": "9XKNQX9JIr4S",
        "outputId": "0336997a-f3ba-428e-eda1-334317ab6379"
      },
      "execution_count": 7,
      "outputs": [
        {
          "output_type": "stream",
          "name": "stdout",
          "text": [
            "Mounted at /content/gdrive\n"
          ]
        }
      ]
    },
    {
      "cell_type": "code",
      "source": [
        "import pandas as pd"
      ],
      "metadata": {
        "id": "vQbrdEGkJbGq"
      },
      "execution_count": 8,
      "outputs": []
    },
    {
      "cell_type": "code",
      "source": [
        "a =  pd.read_csv(\"/content/gdrive/MyDrive/AnyConv.com__owan01.csv\")\n",
        "b =  pd.read_csv(\"/content/gdrive/MyDrive/AnyConv.com__owan02.csv\")\n",
        "c =  pd.read_csv(\"/content/gdrive/MyDrive/AnyConv.com__owan03.csv\")\n",
        "d =  pd.read_csv(\"/content/gdrive/MyDrive/AnyConv.com__owan04.csv\")\n",
        "e =  pd.read_csv(\"/content/gdrive/MyDrive/AnyConv.com__owan05.csv\")\n"
      ],
      "metadata": {
        "id": "VxfAoq1XJdxa"
      },
      "execution_count": 14,
      "outputs": []
    },
    {
      "cell_type": "code",
      "source": [
        "alpha = 0.05\n",
        "\n",
        "shape_a = a.shape\n",
        "shape_b = b.shape\n",
        "shape_c = c.shape\n",
        "shape_d = d.shape\n",
        "shape_e = d.shape\n",
        "\n",
        "def cre_d(shape, sample):\n",
        "    data = []\n",
        "    for i in range(shape[1]):\n",
        "        try:\n",
        "            x = sample.iloc[:, i].dropna()\n",
        "            data.append(x)\n",
        "        except:\n",
        "            data.append(x)\n",
        "    return data\n",
        "\n",
        "def shapiro_test(data):\n",
        "    n = 1\n",
        "    for i in data:\n",
        "        s_test = stats.shapiro(i)\n",
        "        if s_test[1] < alpha:\n",
        "            print(\"Có bằng chứng cho thấy nhóm\",n,\"không tuân theo luật phân phối chuẩn\")\n",
        "        else:\n",
        "            print(\"Không có bằng chứng cho thấy nhóm \",n,\"không tuân theo luật phân phối chuẩn\")\n",
        "        n+=1"
      ],
      "metadata": {
        "id": "pFr3E3uRLG-i"
      },
      "execution_count": 17,
      "outputs": []
    },
    {
      "cell_type": "code",
      "source": [
        "a"
      ],
      "metadata": {
        "colab": {
          "base_uri": "https://localhost:8080/",
          "height": 519
        },
        "id": "CuF8kNXdMtj6",
        "outputId": "1084f70a-7b83-484d-d934-74108fa8fb87"
      },
      "execution_count": 18,
      "outputs": [
        {
          "output_type": "execute_result",
          "data": {
            "text/plain": [
              "     X1    X2     X3    X4\n",
              "0    93  85.0  100.0  96.0\n",
              "1   120  45.0   75.0  58.0\n",
              "2    65  80.0   65.0  95.0\n",
              "3   105  28.0   40.0  90.0\n",
              "4   115  75.0   73.0  65.0\n",
              "5    82  70.0   65.0  80.0\n",
              "6    99  65.0   50.0  85.0\n",
              "7    87  55.0   30.0  95.0\n",
              "8   100  50.0   45.0  82.0\n",
              "9    90  40.0   50.0   NaN\n",
              "10   78   NaN   45.0   NaN\n",
              "11   95   NaN   55.0   NaN\n",
              "12   93   NaN    NaN   NaN\n",
              "13   88   NaN    NaN   NaN\n",
              "14  110   NaN    NaN   NaN"
            ],
            "text/html": [
              "\n",
              "  <div id=\"df-fd53bef8-226d-4c19-bcee-d2732d74048a\">\n",
              "    <div class=\"colab-df-container\">\n",
              "      <div>\n",
              "<style scoped>\n",
              "    .dataframe tbody tr th:only-of-type {\n",
              "        vertical-align: middle;\n",
              "    }\n",
              "\n",
              "    .dataframe tbody tr th {\n",
              "        vertical-align: top;\n",
              "    }\n",
              "\n",
              "    .dataframe thead th {\n",
              "        text-align: right;\n",
              "    }\n",
              "</style>\n",
              "<table border=\"1\" class=\"dataframe\">\n",
              "  <thead>\n",
              "    <tr style=\"text-align: right;\">\n",
              "      <th></th>\n",
              "      <th>X1</th>\n",
              "      <th>X2</th>\n",
              "      <th>X3</th>\n",
              "      <th>X4</th>\n",
              "    </tr>\n",
              "  </thead>\n",
              "  <tbody>\n",
              "    <tr>\n",
              "      <th>0</th>\n",
              "      <td>93</td>\n",
              "      <td>85.0</td>\n",
              "      <td>100.0</td>\n",
              "      <td>96.0</td>\n",
              "    </tr>\n",
              "    <tr>\n",
              "      <th>1</th>\n",
              "      <td>120</td>\n",
              "      <td>45.0</td>\n",
              "      <td>75.0</td>\n",
              "      <td>58.0</td>\n",
              "    </tr>\n",
              "    <tr>\n",
              "      <th>2</th>\n",
              "      <td>65</td>\n",
              "      <td>80.0</td>\n",
              "      <td>65.0</td>\n",
              "      <td>95.0</td>\n",
              "    </tr>\n",
              "    <tr>\n",
              "      <th>3</th>\n",
              "      <td>105</td>\n",
              "      <td>28.0</td>\n",
              "      <td>40.0</td>\n",
              "      <td>90.0</td>\n",
              "    </tr>\n",
              "    <tr>\n",
              "      <th>4</th>\n",
              "      <td>115</td>\n",
              "      <td>75.0</td>\n",
              "      <td>73.0</td>\n",
              "      <td>65.0</td>\n",
              "    </tr>\n",
              "    <tr>\n",
              "      <th>5</th>\n",
              "      <td>82</td>\n",
              "      <td>70.0</td>\n",
              "      <td>65.0</td>\n",
              "      <td>80.0</td>\n",
              "    </tr>\n",
              "    <tr>\n",
              "      <th>6</th>\n",
              "      <td>99</td>\n",
              "      <td>65.0</td>\n",
              "      <td>50.0</td>\n",
              "      <td>85.0</td>\n",
              "    </tr>\n",
              "    <tr>\n",
              "      <th>7</th>\n",
              "      <td>87</td>\n",
              "      <td>55.0</td>\n",
              "      <td>30.0</td>\n",
              "      <td>95.0</td>\n",
              "    </tr>\n",
              "    <tr>\n",
              "      <th>8</th>\n",
              "      <td>100</td>\n",
              "      <td>50.0</td>\n",
              "      <td>45.0</td>\n",
              "      <td>82.0</td>\n",
              "    </tr>\n",
              "    <tr>\n",
              "      <th>9</th>\n",
              "      <td>90</td>\n",
              "      <td>40.0</td>\n",
              "      <td>50.0</td>\n",
              "      <td>NaN</td>\n",
              "    </tr>\n",
              "    <tr>\n",
              "      <th>10</th>\n",
              "      <td>78</td>\n",
              "      <td>NaN</td>\n",
              "      <td>45.0</td>\n",
              "      <td>NaN</td>\n",
              "    </tr>\n",
              "    <tr>\n",
              "      <th>11</th>\n",
              "      <td>95</td>\n",
              "      <td>NaN</td>\n",
              "      <td>55.0</td>\n",
              "      <td>NaN</td>\n",
              "    </tr>\n",
              "    <tr>\n",
              "      <th>12</th>\n",
              "      <td>93</td>\n",
              "      <td>NaN</td>\n",
              "      <td>NaN</td>\n",
              "      <td>NaN</td>\n",
              "    </tr>\n",
              "    <tr>\n",
              "      <th>13</th>\n",
              "      <td>88</td>\n",
              "      <td>NaN</td>\n",
              "      <td>NaN</td>\n",
              "      <td>NaN</td>\n",
              "    </tr>\n",
              "    <tr>\n",
              "      <th>14</th>\n",
              "      <td>110</td>\n",
              "      <td>NaN</td>\n",
              "      <td>NaN</td>\n",
              "      <td>NaN</td>\n",
              "    </tr>\n",
              "  </tbody>\n",
              "</table>\n",
              "</div>\n",
              "      <button class=\"colab-df-convert\" onclick=\"convertToInteractive('df-fd53bef8-226d-4c19-bcee-d2732d74048a')\"\n",
              "              title=\"Convert this dataframe to an interactive table.\"\n",
              "              style=\"display:none;\">\n",
              "        \n",
              "  <svg xmlns=\"http://www.w3.org/2000/svg\" height=\"24px\"viewBox=\"0 0 24 24\"\n",
              "       width=\"24px\">\n",
              "    <path d=\"M0 0h24v24H0V0z\" fill=\"none\"/>\n",
              "    <path d=\"M18.56 5.44l.94 2.06.94-2.06 2.06-.94-2.06-.94-.94-2.06-.94 2.06-2.06.94zm-11 1L8.5 8.5l.94-2.06 2.06-.94-2.06-.94L8.5 2.5l-.94 2.06-2.06.94zm10 10l.94 2.06.94-2.06 2.06-.94-2.06-.94-.94-2.06-.94 2.06-2.06.94z\"/><path d=\"M17.41 7.96l-1.37-1.37c-.4-.4-.92-.59-1.43-.59-.52 0-1.04.2-1.43.59L10.3 9.45l-7.72 7.72c-.78.78-.78 2.05 0 2.83L4 21.41c.39.39.9.59 1.41.59.51 0 1.02-.2 1.41-.59l7.78-7.78 2.81-2.81c.8-.78.8-2.07 0-2.86zM5.41 20L4 18.59l7.72-7.72 1.47 1.35L5.41 20z\"/>\n",
              "  </svg>\n",
              "      </button>\n",
              "      \n",
              "  <style>\n",
              "    .colab-df-container {\n",
              "      display:flex;\n",
              "      flex-wrap:wrap;\n",
              "      gap: 12px;\n",
              "    }\n",
              "\n",
              "    .colab-df-convert {\n",
              "      background-color: #E8F0FE;\n",
              "      border: none;\n",
              "      border-radius: 50%;\n",
              "      cursor: pointer;\n",
              "      display: none;\n",
              "      fill: #1967D2;\n",
              "      height: 32px;\n",
              "      padding: 0 0 0 0;\n",
              "      width: 32px;\n",
              "    }\n",
              "\n",
              "    .colab-df-convert:hover {\n",
              "      background-color: #E2EBFA;\n",
              "      box-shadow: 0px 1px 2px rgba(60, 64, 67, 0.3), 0px 1px 3px 1px rgba(60, 64, 67, 0.15);\n",
              "      fill: #174EA6;\n",
              "    }\n",
              "\n",
              "    [theme=dark] .colab-df-convert {\n",
              "      background-color: #3B4455;\n",
              "      fill: #D2E3FC;\n",
              "    }\n",
              "\n",
              "    [theme=dark] .colab-df-convert:hover {\n",
              "      background-color: #434B5C;\n",
              "      box-shadow: 0px 1px 3px 1px rgba(0, 0, 0, 0.15);\n",
              "      filter: drop-shadow(0px 1px 2px rgba(0, 0, 0, 0.3));\n",
              "      fill: #FFFFFF;\n",
              "    }\n",
              "  </style>\n",
              "\n",
              "      <script>\n",
              "        const buttonEl =\n",
              "          document.querySelector('#df-fd53bef8-226d-4c19-bcee-d2732d74048a button.colab-df-convert');\n",
              "        buttonEl.style.display =\n",
              "          google.colab.kernel.accessAllowed ? 'block' : 'none';\n",
              "\n",
              "        async function convertToInteractive(key) {\n",
              "          const element = document.querySelector('#df-fd53bef8-226d-4c19-bcee-d2732d74048a');\n",
              "          const dataTable =\n",
              "            await google.colab.kernel.invokeFunction('convertToInteractive',\n",
              "                                                     [key], {});\n",
              "          if (!dataTable) return;\n",
              "\n",
              "          const docLinkHtml = 'Like what you see? Visit the ' +\n",
              "            '<a target=\"_blank\" href=https://colab.research.google.com/notebooks/data_table.ipynb>data table notebook</a>'\n",
              "            + ' to learn more about interactive tables.';\n",
              "          element.innerHTML = '';\n",
              "          dataTable['output_type'] = 'display_data';\n",
              "          await google.colab.output.renderOutput(dataTable, element);\n",
              "          const docLink = document.createElement('div');\n",
              "          docLink.innerHTML = docLinkHtml;\n",
              "          element.appendChild(docLink);\n",
              "        }\n",
              "      </script>\n",
              "    </div>\n",
              "  </div>\n",
              "  "
            ]
          },
          "metadata": {},
          "execution_count": 18
        }
      ]
    },
    {
      "cell_type": "markdown",
      "source": [
        "B1: kiểm tra dữ liệu đã tuân theo phân phối chuẩn hay chưa?\n",
        "\n",
        "\n",
        "$H_0$: Các mẫu tuân theo phân phối chuẩn\n",
        "\n",
        "$H_a$: Các mẫu không tuân theo phân phối chuẩn"
      ],
      "metadata": {
        "id": "qztoOa48M5oK"
      }
    },
    {
      "cell_type": "code",
      "source": [
        "data_a = cre_d(shape_a, a)\n",
        "shapiro_test(data_a)"
      ],
      "metadata": {
        "colab": {
          "base_uri": "https://localhost:8080/"
        },
        "id": "OryuxdrLM8_6",
        "outputId": "496bed30-3346-4866-9472-1ff763c156f2"
      },
      "execution_count": 19,
      "outputs": [
        {
          "output_type": "stream",
          "name": "stdout",
          "text": [
            "Không có bằng chứng cho thấy nhóm  1 không tuân theo luật phân phối chuẩn\n",
            "Không có bằng chứng cho thấy nhóm  2 không tuân theo luật phân phối chuẩn\n",
            "Không có bằng chứng cho thấy nhóm  3 không tuân theo luật phân phối chuẩn\n",
            "Không có bằng chứng cho thấy nhóm  4 không tuân theo luật phân phối chuẩn\n"
          ]
        }
      ]
    },
    {
      "cell_type": "markdown",
      "source": [
        "B2: Tiến hành kiểm định có sự đồng nhất giữa phương sai các nhóm hay không?\n",
        "\n",
        "**Phát biểu giả thuyết:**\n",
        "\n",
        "$H_0$: Không có sự khác biệt về phương sai của các nhóm\n",
        "\n",
        "$H_a$: Có sự khác biệt về phương sai của các nhóm"
      ],
      "metadata": {
        "id": "u_iBWGo3NSED"
      }
    },
    {
      "cell_type": "code",
      "source": [
        "A_test = stats.bartlett(data_a[0],data_a[1],data_a[2],data_a[3])\n",
        "if A_test[1] < alpha:\n",
        "    print(\"Có bằng chứng cho thấy có sự khác biệt về phương sai của các nhóm trên\")\n",
        "else:\n",
        "    print(\"Không có sự khác biệt về phương sai của các nhóm trên\")"
      ],
      "metadata": {
        "colab": {
          "base_uri": "https://localhost:8080/"
        },
        "id": "4HJkDLuzNS6D",
        "outputId": "30ccccf2-0934-42e4-aac6-3284c21880dd"
      },
      "execution_count": 20,
      "outputs": [
        {
          "output_type": "stream",
          "name": "stdout",
          "text": [
            "Không có sự khác biệt về phương sai của các nhóm trên\n"
          ]
        }
      ]
    },
    {
      "cell_type": "markdown",
      "source": [
        "B3\n",
        "**Phát biểu giả thuyết**:\n",
        "\n",
        "$H_0$: Không có sự khác biệt về giá trị trung bình giữa các nhóm\n",
        "\n",
        "$H_a$: Tồn tại có sự khác biệt về giá trị trung bình giữa các n"
      ],
      "metadata": {
        "id": "Lzg-NEfONgEp"
      }
    },
    {
      "cell_type": "code",
      "source": [
        "B_test = f_oneway(data_a[0], data_a[1], data_a[2], data_a[3])\n",
        "if B_test[1] < alpha:\n",
        "    print(\"Có bằng chứng cho thấy có sự khác biệt về giá trị trung bình của các nhóm\")\n",
        "else:\n",
        "    print(\"Không có sự khác biệt về giá trị trung bình của các nhóm\")"
      ],
      "metadata": {
        "colab": {
          "base_uri": "https://localhost:8080/"
        },
        "id": "XtC9Xa7mNnqJ",
        "outputId": "9c7214fc-1eb5-4dc7-ce66-79b3792bd993"
      },
      "execution_count": 21,
      "outputs": [
        {
          "output_type": "stream",
          "name": "stdout",
          "text": [
            "Có bằng chứng cho thấy có sự khác biệt về giá trị trung bình của các nhóm\n"
          ]
        }
      ]
    },
    {
      "cell_type": "code",
      "source": [
        "data_c = cre_d(shape_c, c)\n",
        "shapiro_test(data_c)"
      ],
      "metadata": {
        "colab": {
          "base_uri": "https://localhost:8080/"
        },
        "id": "1t4qZKAjN2IS",
        "outputId": "8e6cf41f-484c-4de5-c9ee-279b1922e748"
      },
      "execution_count": 22,
      "outputs": [
        {
          "output_type": "stream",
          "name": "stdout",
          "text": [
            "Không có bằng chứng cho thấy nhóm  1 không tuân theo luật phân phối chuẩn\n",
            "Không có bằng chứng cho thấy nhóm  2 không tuân theo luật phân phối chuẩn\n",
            "Không có bằng chứng cho thấy nhóm  3 không tuân theo luật phân phối chuẩn\n",
            "Không có bằng chứng cho thấy nhóm  4 không tuân theo luật phân phối chuẩn\n"
          ]
        }
      ]
    },
    {
      "cell_type": "code",
      "source": [
        "data_d = cre_d(shape_d, d)\n",
        "shapiro_test(data_d)\n",
        "\n",
        "D_test = stats.bartlett(data_d[0],data_d[1],data_d[2],data_d[3],data_d[4])\n",
        "if B_test[1] < alpha:\n",
        "    print(\"Có bằng chứng cho thấy có sự khác biệt về phương sai của các nhóm trên\")\n",
        "else:\n",
        "    print(\"Không có sự khác biệt về phương sai của các nhóm trên\")\n",
        "    \n",
        "D_test = f_oneway(data_d[0], data_d[1], data_d[2], data_d[3], data_d[4])\n",
        "if A_test[1] < alpha:\n",
        "    print(\"Có bằng chứng cho thấy có sự khác biệt về giá trị trung bình của các nhóm\")\n",
        "else:\n",
        "    print(\"Không có sự khác biệt về giá trị trung bình của các nhóm\")"
      ],
      "metadata": {
        "colab": {
          "base_uri": "https://localhost:8080/"
        },
        "id": "EDY2650mOA4K",
        "outputId": "0ebf32a6-3fa0-4cac-d456-c9d15dd8502c"
      },
      "execution_count": 25,
      "outputs": [
        {
          "output_type": "stream",
          "name": "stdout",
          "text": [
            "Không có bằng chứng cho thấy nhóm  1 không tuân theo luật phân phối chuẩn\n",
            "Không có bằng chứng cho thấy nhóm  2 không tuân theo luật phân phối chuẩn\n",
            "Không có bằng chứng cho thấy nhóm  3 không tuân theo luật phân phối chuẩn\n",
            "Không có bằng chứng cho thấy nhóm  4 không tuân theo luật phân phối chuẩn\n",
            "Không có bằng chứng cho thấy nhóm  5 không tuân theo luật phân phối chuẩn\n",
            "Có bằng chứng cho thấy có sự khác biệt về phương sai của các nhóm trên\n",
            "Không có sự khác biệt về giá trị trung bình của các nhóm\n"
          ]
        }
      ]
    },
    {
      "cell_type": "code",
      "source": [
        "B_test = f_oneway(data_a[0], data_a[1], data_a[2], data_a[3])\n",
        "if B_test[1] < alpha:\n",
        "    print(\"Có bằng chứng cho thấy có sự khác biệt về giá trị trung bình của các nhóm\")\n",
        "else:\n",
        "    print(\"Không có sự khác biệt về giá trị trung bình của các nhóm\")"
      ],
      "metadata": {
        "id": "u-QFK-lTO1fC"
      },
      "execution_count": null,
      "outputs": []
    },
    {
      "cell_type": "code",
      "source": [
        "data_e = cre_d(shape_e, e)\n",
        "shapiro_test(data_e)\n",
        "\n",
        "E_test = stats.bartlett(data_e[0],data_e[1],data_e[2],data_e[3],data_e[4])\n",
        "if E_test[1] < alpha:\n",
        "    print(\"Có bằng chứng cho thấy có sự khác biệt về phương sai của các nhóm trên\")\n",
        "else:\n",
        "    print(\"Không có sự khác biệt về phương sai của các nhóm trên\")"
      ],
      "metadata": {
        "colab": {
          "base_uri": "https://localhost:8080/"
        },
        "id": "U030fu0wO_PT",
        "outputId": "f5bacf09-2e1d-4092-8081-20b5c39f6ef6"
      },
      "execution_count": 27,
      "outputs": [
        {
          "output_type": "stream",
          "name": "stdout",
          "text": [
            "Có bằng chứng cho thấy nhóm 1 không tuân theo luật phân phối chuẩn\n",
            "Không có bằng chứng cho thấy nhóm  2 không tuân theo luật phân phối chuẩn\n",
            "Không có bằng chứng cho thấy nhóm  3 không tuân theo luật phân phối chuẩn\n",
            "Không có bằng chứng cho thấy nhóm  4 không tuân theo luật phân phối chuẩn\n",
            "Không có bằng chứng cho thấy nhóm  5 không tuân theo luật phân phối chuẩn\n",
            "Không có sự khác biệt về phương sai của các nhóm trên\n"
          ]
        }
      ]
    }
  ]
}